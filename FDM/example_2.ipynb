{
 "cells": [
  {
   "cell_type": "markdown",
   "metadata": {},
   "source": [
    "## Free standing shells\n",
    "In this example you will find strategies to make shells defined parametricaly"
   ]
  },
  {
   "cell_type": "code",
   "execution_count": 5,
   "metadata": {},
   "outputs": [],
   "source": [
    "import sys\n",
    "sys.path.append(\"..\")\n",
    "\n",
    "import numpy as np\n",
    "import matplotlib.pyplot as plt\n",
    "\n",
    "from py2gcode import py2gcode"
   ]
  },
  {
   "cell_type": "code",
   "execution_count": 6,
   "metadata": {},
   "outputs": [],
   "source": [
    "# the first figure will be a semi sperical sheel defined by the Radius and the bottom radius.\n",
    "d_filament = 1.75\n",
    "d_nozzle = 0.4\n",
    "z_layer = 0.2\n",
    "R = 15.0 # Radius of the sphere\n",
    "Rb = 10.0 # Botom radius. \n",
    "h = 2*np.sqrt(R**2-Rb**2) # total hight\n",
    "n = int(h/z_layer) # number of layers\n",
    "x0 = R # where we print in the bed\n",
    "y0 = R\n",
    "ds = 0.25 # maximal arc\n",
    "# Some py2gcode definitions\n",
    "pgcode = py2gcode(material_diameter=d_filament,nozzle_diameter=d_nozzle)\n",
    "pgcode.go_home()\n",
    "pgcode.write('G92 E0')\n",
    "pgcode.feed = 600.0\n",
    "pgcode.retraction_lenght = 3.0\n",
    "pgcode.move_abs(z = 10.0)\n",
    "pgcode.set_temp(tem = 210.0) # set the head temperature\n",
    "\n",
    "pgcode.move_abs(x = x0,y = y0)\n",
    "pgcode.move_abs(z = z_layer)"
   ]
  },
  {
   "cell_type": "code",
   "execution_count": 7,
   "metadata": {},
   "outputs": [
    {
     "data": {
      "text/plain": [
       "(<Figure size 640x480 with 1 Axes>, <Axes3D: >)"
      ]
     },
     "execution_count": 7,
     "metadata": {},
     "output_type": "execute_result"
    }
   ],
   "source": [
    "# The first layer will be a set of concentric circles.\n",
    "# \n",
    "pgcode.recover()\n",
    "for r in np.arange(d_nozzle/2,Rb,d_nozzle):\n",
    "    th = np.linspace(0,2*np.pi,int(r/ds))\n",
    "    for t in th:\n",
    "        pgcode.move_abs(x = x0+r*np.cos(t),y = y0+r*np.sin(t), extrude = True)\n",
    "pgcode.plot() \n"
   ]
  },
  {
   "cell_type": "code",
   "execution_count": null,
   "metadata": {},
   "outputs": [],
   "source": [
    "%matplotlib qt\n",
    "# Now the rest of the shell\n",
    "# \n",
    "for i in range(n):\n",
    "    pgcode.move(z = z_layer)\n",
    "    r = np.sqrt(R**2-(z_layer*i-h/2)**2)\n",
    "    th = np.linspace(0,2*np.pi,int(r/ds))\n",
    "    for t in th:\n",
    "        pgcode.move_abs(x = x0+r*np.cos(t),y = y0+r*np.sin(t), extrude = True)\n",
    "\n",
    "pgcode.move(z = 10.0) \n",
    "pgcode.move_abs(x = 0.0, y = 0)\n",
    "pgcode.plot() \n",
    "\n",
    "#pgcode.out('spherical_shell') "
   ]
  }
 ],
 "metadata": {
  "kernelspec": {
   "display_name": "inverse",
   "language": "python",
   "name": "python3"
  },
  "language_info": {
   "codemirror_mode": {
    "name": "ipython",
    "version": 3
   },
   "file_extension": ".py",
   "mimetype": "text/x-python",
   "name": "python",
   "nbconvert_exporter": "python",
   "pygments_lexer": "ipython3",
   "version": "3.9.19"
  }
 },
 "nbformat": 4,
 "nbformat_minor": 2
}
