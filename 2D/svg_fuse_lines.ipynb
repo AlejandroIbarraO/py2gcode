{
 "cells": [
  {
   "cell_type": "markdown",
   "metadata": {},
   "source": [
    "This example show how to use py2gcode to generate gcode for create lines from an svg file, with special focus in the generation of gcode for fusing lines used in inflatables fabric actuators. \n",
    "\n",
    "So the workflow in this notebooks works as follows:\n",
    "\n",
    "1. Load the svg file\n",
    "2. Explore the files, and find the curves.\n",
    "3. Translate this vector description to coordinates.\n",
    "4. Use py2gcode to create our custom made gcode. \n"
   ]
  }
 ],
 "metadata": {
  "language_info": {
   "name": "python"
  }
 },
 "nbformat": 4,
 "nbformat_minor": 2
}
